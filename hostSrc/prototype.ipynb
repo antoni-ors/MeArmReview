{
 "cells": [
  {
   "cell_type": "code",
   "execution_count": null,
   "metadata": {
    "scrolled": false
   },
   "outputs": [],
   "source": [
    "import sys, os\n",
    "print (sys.version)\n",
    "import cv2, math\n",
    "import time\n",
    "from matplotlib import pyplot as plt\n",
    "import signal\n",
    "import numpy as np\n",
    "\n",
    "\n",
    "print(cv2.__file__)\n",
    "%matplotlib notebook"
   ]
  },
  {
   "cell_type": "markdown",
   "metadata": {},
   "source": [
    "# Import and Setup OpenPose"
   ]
  },
  {
   "cell_type": "code",
   "execution_count": null,
   "metadata": {},
   "outputs": [],
   "source": [
    "openPoseDir = \"/home/yousof/AI/openpose/\"\n",
    "openPoseLib = openPoseDir + \"build/python\"\n",
    "sys.path.append(openPoseLib);\n",
    "from openpose import pyopenpose as op\n",
    "\n",
    "params = dict()\n",
    "params[\"model_folder\"] = openPoseDir + \"models\"\n",
    "params[\"hand\"] = True\n",
    "params[\"hand_detector\"] = 0"
   ]
  },
  {
   "cell_type": "code",
   "execution_count": null,
   "metadata": {},
   "outputs": [],
   "source": [
    "def plotOpenCVImage(img):\n",
    "    plt.figure(figsize=(10,18))\n",
    "    plt.imshow(cv2.cvtColor(img, cv2.COLOR_BGR2RGB))\n",
    "    plt.show()"
   ]
  },
  {
   "cell_type": "markdown",
   "metadata": {},
   "source": [
    "# Initialize OpenPose"
   ]
  },
  {
   "cell_type": "code",
   "execution_count": null,
   "metadata": {},
   "outputs": [],
   "source": [
    "opWrapper = op.WrapperPython()\n",
    "opWrapper.configure(params)\n",
    "opWrapper.start()\n",
    "datum = op.Datum()"
   ]
  },
  {
   "cell_type": "code",
   "execution_count": null,
   "metadata": {},
   "outputs": [],
   "source": [
    "def wait_until(condition, interval=0.1, timeout=1, *args):\n",
    "    start = time.time()\n",
    "    while not condition(*args) and time.time() - start < timeout:\n",
    "        time.sleep(interval)\n",
    "\n",
    "def pointsToDegrees(datum):\n",
    "    BaseIdx = 5\n",
    "    midIdx = 6\n",
    "    tipIdx = 8\n",
    "    hand = 0\n",
    "    if datum.handKeypoints[hand].size != 1 :\n",
    "        points = datum.handKeypoints[hand][0,:,:].squeeze()\n",
    "        all_zeros = not np.any(points)\n",
    "        if not all_zeros:\n",
    "            points[:,1] = datum.cvOutputData.shape[1] - points[:,1]\n",
    "            dy = points[midIdx, 1] - points[BaseIdx, 1]\n",
    "            dx = points[midIdx, 0] - points[BaseIdx, 0]\n",
    "            deg1 = math.degrees(math.atan2(dy, dx))\n",
    "            dy = points[tipIdx, 1] - points[midIdx, 1]\n",
    "            dx = points[tipIdx, 0] - points[midIdx, 0]\n",
    "            deg2 = math.degrees(math.atan2(dy, dx))\n",
    "            print(deg1-90, deg2)\n",
    "    \n",
    "def processImage(img):\n",
    "    global datum, opWrapper\n",
    "    datum.cvInputData = img\n",
    "    opWrapper.waitAndEmplace([datum])\n",
    "    if opWrapper.waitAndPop([datum]):\n",
    "        pointsToDegrees(datum)"
   ]
  },
  {
   "cell_type": "markdown",
   "metadata": {},
   "source": [
    "# Read from webcam"
   ]
  },
  {
   "cell_type": "code",
   "execution_count": null,
   "metadata": {
    "scrolled": false
   },
   "outputs": [],
   "source": [
    "cam = cv2.VideoCapture(0)\n",
    "cam.set(3 , 1920  ) # width        \n",
    "cam.set(4 , 1080  ) # height       \n",
    "#cam.set(10, 120  ) # brightness     min: 0   , max: 255 , increment:1  \n",
    "#cam.set(11, 50   ) # contrast       min: 0   , max: 255 , increment:1     \n",
    "#cam.set(12, 70   ) # saturation     min: 0   , max: 255 , increment:1\n",
    "#cam.set(13, 13   ) # hue         \n",
    "#cam.set(14, 50   ) # gain           min: 0   , max: 127 , increment:1\n",
    "#cam.set(15, -3   ) # exposure       min: -7  , max: -1  , increment:1\n",
    "#cam.set(17, 5000 ) # white_balance  min: 4000, max: 7000, increment:1\n",
    "#cam.set(28, 0    ) # focus          min: 0   , max: 255 , increment:5"
   ]
  },
  {
   "cell_type": "code",
   "execution_count": null,
   "metadata": {},
   "outputs": [],
   "source": [
    "is_capturing, frame = cam.read()\n",
    "cam.release()"
   ]
  },
  {
   "cell_type": "code",
   "execution_count": null,
   "metadata": {
    "scrolled": true
   },
   "outputs": [],
   "source": [
    "plotOpenCVImage(frame)\n",
    "processImage(frame)\n",
    "plotOpenCVImage(datum.cvOutputData)\n"
   ]
  },
  {
   "cell_type": "code",
   "execution_count": null,
   "metadata": {},
   "outputs": [],
   "source": [
    "datum.handKeypoints"
   ]
  },
  {
   "cell_type": "code",
   "execution_count": null,
   "metadata": {},
   "outputs": [],
   "source": [
    "datum.handKeypoints[1].size"
   ]
  }
 ],
 "metadata": {
  "kernelspec": {
   "display_name": "Python 3.6",
   "language": "python",
   "name": "python36"
  },
  "language_info": {
   "codemirror_mode": {
    "name": "ipython",
    "version": 3
   },
   "file_extension": ".py",
   "mimetype": "text/x-python",
   "name": "python",
   "nbconvert_exporter": "python",
   "pygments_lexer": "ipython3",
   "version": "3.6.8"
  }
 },
 "nbformat": 4,
 "nbformat_minor": 2
}
