{
 "cells": [
  {
   "cell_type": "markdown",
   "metadata": {},
   "source": [
    "# Using Widgets"
   ]
  },
  {
   "cell_type": "code",
   "execution_count": 1,
   "metadata": {
    "scrolled": false
   },
   "outputs": [
    {
     "name": "stdout",
     "output_type": "stream",
     "text": [
      "3.7.2 (default, Dec 29 2018, 06:19:36) \n",
      "[GCC 7.3.0]\n"
     ]
    }
   ],
   "source": [
    "import sys\n",
    "print(sys.version)\n",
    "import ipywidgets as widgets\n",
    "from ipywidgets import HBox, VBox ,Layout\n",
    "from IPython.display import display\n",
    "import serial"
   ]
  },
  {
   "cell_type": "code",
   "execution_count": 2,
   "metadata": {},
   "outputs": [],
   "source": [
    "class armController:\n",
    "    def __init__(self, serialPath = '/dev/ttyACM0', baudrate = 115200):\n",
    "        self.servoMax = [122,98,123,125]\n",
    "        self.servoMin = [46,46,41,47]\n",
    "        self.degMax = [90] * 4\n",
    "        self.degMin = [-90] * 4\n",
    "        self.servoListDegs = [0.0] * 4 # [right, left, base, gripper]\n",
    "        self.servoListRaw = [self.degToServo(deg,i) for i,deg in enumerate(self.servoListDegs) ]\n",
    "        self.serial = serial.Serial(serialPath, baudrate=baudrate)\n",
    "        # setup widgets\n",
    "        self.setUpWidgets()\n",
    "    \n",
    "    def setUpWidgets(self):\n",
    "        style = {'description_width': 'initial'}\n",
    "        self.floatDegWidgets = [\n",
    "            widgets.FloatSlider(value = self.servoListDegs[0], \n",
    "                                min = self.degMin[0], max = self.degMax[0], step = 0.1, \n",
    "                                description = \"Right Servo Degs\",\n",
    "                                continuous_update=False, style=style),\n",
    "            widgets.FloatSlider(value = self.servoListDegs[1],\n",
    "                                min = self.degMin[1], max = self.degMax[1], step = 0.1,\n",
    "                                description = \"Left Servo Degs\",\n",
    "                                continuous_update=False, style=style),\n",
    "            widgets.FloatSlider(value = self.servoListDegs[2], \n",
    "                                min = self.degMin[2], max = self.degMax[2], step = 0.1, \n",
    "                                description = \"Base Servo Degs\",\n",
    "                                continuous_update=False, style=style),\n",
    "            widgets.FloatSlider(value = self.servoListDegs[3], \n",
    "                                min = self.degMin[3], max = self.degMax[3], step = 0.1, \n",
    "                                description = \"Gripper Servo Degs\",\n",
    "                                continuous_update=False, style=style)\n",
    "        ]\n",
    "        for w in self.floatDegWidgets:\n",
    "            w.observe(self.readAllDegWidgets)\n",
    "        self.degsTextWidget = widgets.Text(description = \"servoListDegs\", style=style)\n",
    "        self.serialCommandTextWidget = widgets.Text(description = \"sent command via USB\", style=style)\n",
    "        \n",
    "        self.rawServoValueWidgets = [\n",
    "            widgets.IntSlider(value = self.servoListRaw[0],\n",
    "                              min = self.servoMin[0], max = self.servoMax[0], step = 1, \n",
    "                              description = \"Right Servo Raw\",\n",
    "                              continuous_update=False, style=style),\n",
    "            widgets.IntSlider(value = self.servoListRaw[1],\n",
    "                              min = self.servoMin[1], max = self.servoMax[1], step = 1, \n",
    "                              description = \"Left Servo Raw\",\n",
    "                              continuous_update=False, style=style),\n",
    "            widgets.IntSlider(value = self.servoListRaw[2],\n",
    "                              min = self.servoMin[2], max = self.servoMax[2], step = 1, \n",
    "                              description = \"Base Servo Raw\",\n",
    "                              continuous_update=False, style=style),\n",
    "            widgets.IntSlider(value = self.servoListRaw[3],\n",
    "                              min = self.servoMin[3], max = self.servoMax[3], step = 1, \n",
    "                              description = \"Gripper Servo Raw\",\n",
    "                              continuous_update=False, style=style)\n",
    "        ]\n",
    "        for w in self.rawServoValueWidgets:\n",
    "            w.observe(self.readAllRawWidgets)\n",
    "        \n",
    "        l = [w for w in self.floatDegWidgets]\n",
    "        l.append(self.degsTextWidget)\n",
    "        l.append(self.serialCommandTextWidget)\n",
    "        self.left_box = VBox(l,layout = Layout(width='100%'))\n",
    "        self.right_box = VBox([w for w in self.rawServoValueWidgets],layout = Layout(width='100%'))\n",
    "        self.allWidgets = HBox([self.left_box, self.right_box],layout = Layout(width='100%'))\n",
    "        display(self.allWidgets)\n",
    "    \n",
    "    def updateRawValuesFromDegs(self):\n",
    "        for i in range(4):\n",
    "            rawValue = self.degToServo(self.servoListDegs[i],i )\n",
    "            self.servoListRaw[i] = rawValue\n",
    "            self.rawServoValueWidgets[i].unobserve(self.readAllRawWidgets)\n",
    "            self.rawServoValueWidgets[i].value = rawValue\n",
    "            self.rawServoValueWidgets[i].observe(self.readAllRawWidgets)\n",
    "            \n",
    "    def updateDegValuesFromRaws(self):\n",
    "        for i in range(4):\n",
    "            degValue = self.ServoToDeg(self.servoListRaw[i],i )\n",
    "            self.servoListDegs[i] = degValue\n",
    "            self.floatDegWidgets[i].unobserve(self.readAllDegWidgets)\n",
    "            self.floatDegWidgets[i].value = degValue\n",
    "            self.floatDegWidgets[i].observe(self.readAllDegWidgets)\n",
    "\n",
    "    def readAllDegWidgets(self, updateServos = True):\n",
    "        for i, w in enumerate(self.floatDegWidgets):\n",
    "            self.servoListDegs[i] = w.value\n",
    "        if (updateServos):\n",
    "            self.sendServos()\n",
    "            self.degsTextWidget.value = str(self.servoListDegs)\n",
    "        self.updateRawValuesFromDegs()\n",
    "    \n",
    "    def readAllRawWidgets(self, updateServos = True):\n",
    "        for i, w in enumerate(self.rawServoValueWidgets):\n",
    "            self.servoListRaw[i] = w.value\n",
    "        if (updateServos):\n",
    "            self.sendServos(sendRaw = True)\n",
    "            self.degsTextWidget.value = str(self.servoListDegs)\n",
    "        self.updateDegValuesFromRaws()\n",
    "        \n",
    "    def linearMap (self, Xmax,Xmin, Ymax,Ymin):\n",
    "        slope = (Ymax - Ymin) / (Xmax - Xmin)\n",
    "        b = Ymin - slope * Xmin\n",
    "        return slope, b\n",
    "\n",
    "    def degToServo(self, deg, servoIdx):\n",
    "        slope, b = self.linearMap(self.degMax[servoIdx], self.degMin[servoIdx] , \n",
    "                                  self.servoMax[servoIdx], self.servoMin[servoIdx])\n",
    "        return int(deg*slope + b)\n",
    "    \n",
    "    def ServoToDeg(self, value, servoIdx):\n",
    "        slope, b = self.linearMap(self.servoMax[servoIdx], self.servoMin[servoIdx], \n",
    "                                  self.degMax[servoIdx], self.degMin[servoIdx] )\n",
    "        return slope * value + b\n",
    "    \n",
    "    def valuesToString(self, values):\n",
    "        if (len(values)!=4):\n",
    "            return None\n",
    "        return 's'+','.join([str(v) for v in values]) + 'e'\n",
    "    \n",
    "    def sendServos(self, sendRaw = False):\n",
    "        st = None\n",
    "        if sendRaw:\n",
    "            st = self.valuesToString(self.servoListRaw)\n",
    "        else:\n",
    "            st = self.valuesToString([self.degToServo(deg,i) for i, deg in enumerate(self.servoListDegs)])\n",
    "        if (st == None):\n",
    "            return\n",
    "        if not self.serial.isOpen():\n",
    "            self.serial.open()\n",
    "        self.serial.write(st.encode())\n",
    "        self.serial.close()\n",
    "        self.serialCommandTextWidget.value = st"
   ]
  },
  {
   "cell_type": "code",
   "execution_count": 3,
   "metadata": {
    "scrolled": true
   },
   "outputs": [
    {
     "data": {
      "application/vnd.jupyter.widget-view+json": {
       "model_id": "814c343d4d994a08ab04ba7ca012451e",
       "version_major": 2,
       "version_minor": 0
      },
      "text/plain": [
       "HBox(children=(VBox(children=(FloatSlider(value=0.0, continuous_update=False, description='Right Servo Degs', …"
      ]
     },
     "metadata": {},
     "output_type": "display_data"
    }
   ],
   "source": [
    "controller = armController()"
   ]
  }
 ],
 "metadata": {
  "kernelspec": {
   "display_name": "Python 3",
   "language": "python",
   "name": "python3"
  },
  "language_info": {
   "codemirror_mode": {
    "name": "ipython",
    "version": 3
   },
   "file_extension": ".py",
   "mimetype": "text/x-python",
   "name": "python",
   "nbconvert_exporter": "python",
   "pygments_lexer": "ipython3",
   "version": "3.7.2"
  }
 },
 "nbformat": 4,
 "nbformat_minor": 2
}
