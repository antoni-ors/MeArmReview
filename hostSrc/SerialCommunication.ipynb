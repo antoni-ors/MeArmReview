{
 "cells": [
  {
   "cell_type": "code",
   "execution_count": 1,
   "metadata": {
    "scrolled": false
   },
   "outputs": [],
   "source": [
    "import sys\n",
    "print(sys.version)\n",
    "import numpy as np"
   ]
  },
  {
   "cell_type": "code",
   "execution_count": 2,
   "metadata": {},
   "outputs": [],
   "source": [
    "import serial"
   ]
  },
  {
   "cell_type": "code",
   "execution_count": 3,
   "metadata": {},
   "outputs": [],
   "source": [
    "ser = serial.Serial('/dev/ttyACM0', baudrate=115200)\n",
    "print(ser.name)"
   ]
  },
  {
   "cell_type": "code",
   "execution_count": 4,
   "metadata": {
    "scrolled": true
   },
   "outputs": [],
   "source": [
    "inputStr = \"s100,40,180,6e\"\n",
    "ser.write(inputStr.encode() )\n",
    "ser.close()"
   ]
  },
  {
   "cell_type": "code",
   "execution_count": 5,
   "metadata": {
    "scrolled": true
   },
   "outputs": [],
   "source": [
    "servoMax = int(2.0 * 1023.0 / 20)-1\n",
    "servoMin = int(1.0 * 1023.0 / 20)+1\n",
    "print(servoMin, servoMax)"
   ]
  },
  {
   "cell_type": "code",
   "execution_count": 6,
   "metadata": {},
   "outputs": [],
   "source": [
    "def degToServo(deg):\n",
    "    \"\"\"\n",
    "    -90 -> 52\n",
    "    90 -> 101\n",
    "    \"\"\"\n",
    "    mean = (servoMax + servoMin) / 2\n",
    "    slope = (servoMax - servoMin) / 180\n",
    "    return int(deg*slope + mean)"
   ]
  },
  {
   "cell_type": "code",
   "execution_count": 7,
   "metadata": {
    "scrolled": true
   },
   "outputs": [],
   "source": [
    "print(degToServo(0))\n",
    "print(degToServo(-90))\n",
    "print(degToServo(90))"
   ]
  },
  {
   "cell_type": "code",
   "execution_count": 8,
   "metadata": {},
   "outputs": [],
   "source": [
    "def servosToString(degs):\n",
    "    if (len(degs)!=4):\n",
    "        return None\n",
    "    return 's'+','.join([str(degToServo(deg)) for deg in degs]) + 'e'"
   ]
  },
  {
   "cell_type": "code",
   "execution_count": 9,
   "metadata": {},
   "outputs": [
    {
     "data": {
      "text/plain": [
       "'s79,81,84,87e'"
      ]
     },
     "execution_count": 9,
     "metadata": {},
     "output_type": "execute_result"
    }
   ],
   "source": [
    "servosToString([10,20,30,40])"
   ]
  },
  {
   "cell_type": "code",
   "execution_count": 10,
   "metadata": {},
   "outputs": [],
   "source": [
    "def sendServos(degs,ser):\n",
    "    st = servosToString(degs)\n",
    "    if (st == None):\n",
    "        return\n",
    "    ser.open()\n",
    "    ser.write(st.encode())\n",
    "    ser.close()"
   ]
  },
  {
   "cell_type": "code",
   "execution_count": 13,
   "metadata": {},
   "outputs": [],
   "source": [
    "sendServos([0,0,0,0],ser)"
   ]
  }
 ],
 "metadata": {
  "kernelspec": {
   "display_name": "Python 3",
   "language": "python",
   "name": "python3"
  },
  "language_info": {
   "codemirror_mode": {
    "name": "ipython",
    "version": 3
   },
   "file_extension": ".py",
   "mimetype": "text/x-python",
   "name": "python",
   "nbconvert_exporter": "python",
   "pygments_lexer": "ipython3",
   "version": "3.7.2"
  }
 },
 "nbformat": 4,
 "nbformat_minor": 2
}
