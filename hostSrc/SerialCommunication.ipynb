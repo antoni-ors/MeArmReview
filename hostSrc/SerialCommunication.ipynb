{
 "cells": [
  {
   "cell_type": "markdown",
   "metadata": {},
   "source": [
    "# Using Widgets"
   ]
  },
  {
   "cell_type": "code",
   "execution_count": 1,
   "metadata": {
    "scrolled": false
   },
   "outputs": [
    {
     "name": "stdout",
     "output_type": "stream",
     "text": [
      "3.7.2 (default, Dec 29 2018, 06:19:36) \n",
      "[GCC 7.3.0]\n"
     ]
    }
   ],
   "source": [
    "import sys\n",
    "print(sys.version)\n",
    "import ipywidgets as widgets\n",
    "from ipywidgets import HBox, VBox ,Layout\n",
    "from IPython.display import display\n",
    "import serial"
   ]
  },
  {
   "cell_type": "markdown",
   "metadata": {},
   "source": [
    "# Calibrate servos"
   ]
  },
  {
   "cell_type": "code",
   "execution_count": 2,
   "metadata": {},
   "outputs": [],
   "source": [
    "class armCalibrate:\n",
    "    def __init__(self, serialPath = '/dev/ttyACM0', baudrate = 115200):\n",
    "        self.servoMax = [125,125,125,125]\n",
    "        self.servoMin = [40,40,40,40]\n",
    "        self.servoZeroPosition = [73,82,75,0]\n",
    "        self.servoListRaw = self.servoZeroPosition\n",
    "        self.serial = serial.Serial(serialPath, baudrate=baudrate)\n",
    "        # setup widgets\n",
    "        self.setUpWidgets()\n",
    "    \n",
    "    def closeSerial(self):\n",
    "        self.serial.close()\n",
    "    \n",
    "    def setUpWidgets(self):\n",
    "        style = {'description_width': 'initial'}\n",
    "        self.serialCommandTextWidget = widgets.Text(description = \"sent command via USB\", style=style)\n",
    "        self.rawServoValueWidgets = [\n",
    "            widgets.IntSlider(value = self.servoListRaw[0],\n",
    "                              min = self.servoMin[0], max = self.servoMax[0], step = 1, \n",
    "                              description = \"Right Servo Raw\",\n",
    "                              continuous_update=False, style=style),\n",
    "            widgets.IntSlider(value = self.servoListRaw[1],\n",
    "                              min = self.servoMin[1], max = self.servoMax[1], step = 1, \n",
    "                              description = \"Left Servo Raw\",\n",
    "                              continuous_update=False, style=style),\n",
    "            widgets.IntSlider(value = self.servoListRaw[2],\n",
    "                              min = self.servoMin[2], max = self.servoMax[2], step = 1, \n",
    "                              description = \"Base Servo Raw\",\n",
    "                              continuous_update=False, style=style),\n",
    "            widgets.IntSlider(value = self.servoListRaw[3],\n",
    "                              min = self.servoMin[3], max = self.servoMax[3], step = 1, \n",
    "                              description = \"Gripper Servo Raw\",\n",
    "                              continuous_update=False, style=style)\n",
    "        ]\n",
    "        for w in self.rawServoValueWidgets:\n",
    "            w.observe(self.readAllRawWidgets)\n",
    "        \n",
    "        l = [w for w in self.rawServoValueWidgets]\n",
    "        l.append(self.serialCommandTextWidget)\n",
    "        self.box = VBox(l,layout = Layout(width='100%'))\n",
    "        display(self.box)\n",
    "    \n",
    "    def readAllRawWidgets(self, updateServos = True):\n",
    "        for i, w in enumerate(self.rawServoValueWidgets):\n",
    "            self.servoListRaw[i] = w.value\n",
    "        if (updateServos):\n",
    "            self.sendServos()\n",
    "    \n",
    "    def valuesToString(self, values):\n",
    "        if (len(values)!=4):\n",
    "            return None\n",
    "        return 's'+','.join([str(v) for v in values]) + 'e'\n",
    "    \n",
    "    def sendServos(self):\n",
    "        st = self.valuesToString(self.servoListRaw)\n",
    "        if (st == None):\n",
    "            return\n",
    "        if not self.serial.isOpen():\n",
    "            self.serial.open()\n",
    "        self.serial.write(st.encode())\n",
    "        self.serial.close()\n",
    "        self.serialCommandTextWidget.value = st"
   ]
  },
  {
   "cell_type": "code",
   "execution_count": 3,
   "metadata": {},
   "outputs": [
    {
     "data": {
      "application/vnd.jupyter.widget-view+json": {
       "model_id": "821cf76c968248368df7cde23e7ff88e",
       "version_major": 2,
       "version_minor": 0
      },
      "text/plain": [
       "VBox(children=(IntSlider(value=73, continuous_update=False, description='Right Servo Raw', max=125, min=40, st…"
      ]
     },
     "metadata": {},
     "output_type": "display_data"
    }
   ],
   "source": [
    "calibrate = armCalibrate()"
   ]
  },
  {
   "cell_type": "markdown",
   "metadata": {},
   "source": [
    "My setup had the following values:\n",
    "\n",
    "| Servo| min value | min deg | value for zero deg | max value\n",
    "|------|------|------|------|------|\n",
    "|Right|46| -45 |73|121|\n",
    "|Left|46| -60 |82|98|\n",
    "|Base|41| -60 |75|123|\n",
    "|Gripper|47| -95 |100|125|\n",
    "\n",
    "Then we fill the calibration values in the init of the following class"
   ]
  },
  {
   "cell_type": "code",
   "execution_count": 4,
   "metadata": {},
   "outputs": [],
   "source": [
    "calibrate.closeSerial()"
   ]
  },
  {
   "cell_type": "code",
   "execution_count": 5,
   "metadata": {},
   "outputs": [],
   "source": [
    "class armController:\n",
    "    def __init__(self, serialPath = '/dev/ttyACM0', baudrate = 115200):\n",
    "        self.servoMin = [46,46,41,47]\n",
    "        self.degMin =  [-45,-60,-60,-95]\n",
    "        self.servoZero = [73,82,75,100]\n",
    "        self.servoMax = [121,98,123,125]\n",
    "        self.servoListDegs = [0.0] * 4 # [right, left, base, gripper]\n",
    "        self.servoListRaw = [self.degToServo(deg,i) for i,deg in enumerate(self.servoListDegs) ]\n",
    "        self.degMax = [self.ServoToDeg(value, i) for i,value in enumerate(self.servoMax)]\n",
    "        self.serial = serial.Serial(serialPath, baudrate=baudrate)\n",
    "        # setup widgets\n",
    "        self.setUpWidgets()\n",
    "    \n",
    "    def closeSerial(self):\n",
    "        self.serial.close()\n",
    "    \n",
    "    def setUpWidgets(self):\n",
    "        style = {'description_width': 'initial'}\n",
    "        self.floatDegWidgets = [\n",
    "            widgets.FloatSlider(value = self.servoListDegs[0], \n",
    "                                min = self.degMin[0], max = self.degMax[0], step = 0.1, \n",
    "                                description = \"Right Servo Degs\",\n",
    "                                continuous_update=False, style=style),\n",
    "            widgets.FloatSlider(value = self.servoListDegs[1],\n",
    "                                min = self.degMin[1], max = self.degMax[1], step = 0.1,\n",
    "                                description = \"Left Servo Degs\",\n",
    "                                continuous_update=False, style=style),\n",
    "            widgets.FloatSlider(value = self.servoListDegs[2], \n",
    "                                min = self.degMin[2], max = self.degMax[2], step = 0.1, \n",
    "                                description = \"Base Servo Degs\",\n",
    "                                continuous_update=False, style=style),\n",
    "            widgets.FloatSlider(value = self.servoListDegs[3], \n",
    "                                min = self.degMin[3], max = self.degMax[3], step = 0.1, \n",
    "                                description = \"Gripper Servo Degs\",\n",
    "                                continuous_update=False, style=style)\n",
    "        ]\n",
    "        for w in self.floatDegWidgets:\n",
    "            w.observe(self.readAllDegWidgets)\n",
    "        self.degsTextWidget = widgets.Text(description = \"servoListDegs\", style=style)\n",
    "        self.serialCommandTextWidget = widgets.Text(description = \"sent command via USB\", style=style)\n",
    "        \n",
    "        self.rawServoValueWidgets = [\n",
    "            widgets.IntSlider(value = self.servoListRaw[0],\n",
    "                              min = self.servoMin[0], max = self.servoMax[0], step = 1, \n",
    "                              description = \"Right Servo Raw\",\n",
    "                              continuous_update=False, style=style),\n",
    "            widgets.IntSlider(value = self.servoListRaw[1],\n",
    "                              min = self.servoMin[1], max = self.servoMax[1], step = 1, \n",
    "                              description = \"Left Servo Raw\",\n",
    "                              continuous_update=False, style=style),\n",
    "            widgets.IntSlider(value = self.servoListRaw[2],\n",
    "                              min = self.servoMin[2], max = self.servoMax[2], step = 1, \n",
    "                              description = \"Base Servo Raw\",\n",
    "                              continuous_update=False, style=style),\n",
    "            widgets.IntSlider(value = self.servoListRaw[3],\n",
    "                              min = self.servoMin[3], max = self.servoMax[3], step = 1, \n",
    "                              description = \"Gripper Servo Raw\",\n",
    "                              continuous_update=False, style=style)\n",
    "        ]\n",
    "        for w in self.rawServoValueWidgets:\n",
    "            w.observe(self.readAllRawWidgets)\n",
    "        \n",
    "        l = [w for w in self.floatDegWidgets]\n",
    "        l.append(self.degsTextWidget)\n",
    "        l.append(self.serialCommandTextWidget)\n",
    "        self.left_box = VBox(l,layout = Layout(width='100%'))\n",
    "        self.right_box = VBox([w for w in self.rawServoValueWidgets],layout = Layout(width='100%'))\n",
    "        self.allWidgets = HBox([self.left_box, self.right_box],layout = Layout(width='100%'))\n",
    "        display(self.allWidgets)\n",
    "    \n",
    "    def updateRawValuesFromDegs(self):\n",
    "        for i in range(4):\n",
    "            rawValue = self.degToServo(self.servoListDegs[i],i )\n",
    "            self.servoListRaw[i] = rawValue\n",
    "            self.rawServoValueWidgets[i].unobserve(self.readAllRawWidgets)\n",
    "            self.rawServoValueWidgets[i].value = rawValue\n",
    "            self.rawServoValueWidgets[i].observe(self.readAllRawWidgets)\n",
    "            \n",
    "    def updateDegValuesFromRaws(self):\n",
    "        for i in range(4):\n",
    "            degValue = self.ServoToDeg(self.servoListRaw[i],i )\n",
    "            self.servoListDegs[i] = degValue\n",
    "            self.floatDegWidgets[i].unobserve(self.readAllDegWidgets)\n",
    "            self.floatDegWidgets[i].value = degValue\n",
    "            self.floatDegWidgets[i].observe(self.readAllDegWidgets)\n",
    "\n",
    "    def readAllDegWidgets(self, updateServos = True):\n",
    "        for i, w in enumerate(self.floatDegWidgets):\n",
    "            self.servoListDegs[i] = w.value\n",
    "        if (updateServos):\n",
    "            self.sendServos()\n",
    "            self.degsTextWidget.value = str(self.servoListDegs)\n",
    "        self.updateRawValuesFromDegs()\n",
    "    \n",
    "    def readAllRawWidgets(self, updateServos = True):\n",
    "        for i, w in enumerate(self.rawServoValueWidgets):\n",
    "            self.servoListRaw[i] = w.value\n",
    "        if (updateServos):\n",
    "            self.sendServos(sendRaw = True)\n",
    "            self.degsTextWidget.value = str(self.servoListDegs)\n",
    "        self.updateDegValuesFromRaws()\n",
    "        \n",
    "    def linearMap (self, X1, Y1, X2, Y2):\n",
    "        slope = (Y1 - Y2) / (X1 - X2)\n",
    "        b = Y1 - slope * X1\n",
    "        return slope, b\n",
    "\n",
    "    def degToServo(self, deg, servoIdx):\n",
    "        slope, b = self.linearMap(self.degMin[servoIdx], self.servoMin[servoIdx],\n",
    "                                  0 ,self.servoZero[servoIdx])\n",
    "        return int(deg*slope + b)\n",
    "    \n",
    "    def ServoToDeg(self, value, servoIdx):\n",
    "        slope, b = self.linearMap(self.servoMin[servoIdx], self.degMin[servoIdx], \n",
    "                                  self.servoZero[servoIdx], 0 )\n",
    "        return slope * value + b\n",
    "    \n",
    "    def valuesToString(self, values):\n",
    "        if (len(values)!=4):\n",
    "            return None\n",
    "        return 's'+','.join([str(v) for v in values]) + 'e'\n",
    "    \n",
    "    def sendServos(self, sendRaw = False):\n",
    "        st = None\n",
    "        if sendRaw:\n",
    "            st = self.valuesToString(self.servoListRaw)\n",
    "        else:\n",
    "            st = self.valuesToString([self.degToServo(deg,i) for i, deg in enumerate(self.servoListDegs)])\n",
    "        if (st == None):\n",
    "            return\n",
    "        if not self.serial.isOpen():\n",
    "            self.serial.open()\n",
    "        self.serial.write(st.encode())\n",
    "        self.serial.close()\n",
    "        self.serialCommandTextWidget.value = st"
   ]
  },
  {
   "cell_type": "code",
   "execution_count": 6,
   "metadata": {
    "scrolled": true
   },
   "outputs": [
    {
     "data": {
      "application/vnd.jupyter.widget-view+json": {
       "model_id": "8b9418976b264bb9a0382b52c3e9bd2d",
       "version_major": 2,
       "version_minor": 0
      },
      "text/plain": [
       "HBox(children=(VBox(children=(FloatSlider(value=0.0, continuous_update=False, description='Right Servo Degs', …"
      ]
     },
     "metadata": {},
     "output_type": "display_data"
    }
   ],
   "source": [
    "controller = armController()"
   ]
  },
  {
   "cell_type": "code",
   "execution_count": 7,
   "metadata": {},
   "outputs": [],
   "source": [
    "controller.closeSerial()"
   ]
  }
 ],
 "metadata": {
  "kernelspec": {
   "display_name": "Python 3",
   "language": "python",
   "name": "python3"
  },
  "language_info": {
   "codemirror_mode": {
    "name": "ipython",
    "version": 3
   },
   "file_extension": ".py",
   "mimetype": "text/x-python",
   "name": "python",
   "nbconvert_exporter": "python",
   "pygments_lexer": "ipython3",
   "version": "3.7.2"
  }
 },
 "nbformat": 4,
 "nbformat_minor": 2
}
