{
 "cells": [
  {
   "cell_type": "code",
   "execution_count": null,
   "metadata": {
    "scrolled": false
   },
   "outputs": [],
   "source": [
    "import sys, os\n",
    "print (sys.version)\n",
    "import cv2, math\n",
    "import time\n",
    "from matplotlib import pyplot as plt\n",
    "import signal\n",
    "import numpy as np\n",
    "import multiprocessing\n",
    "import threading\n",
    "from threading import RLock\n",
    "\n",
    "\n",
    "print(cv2.__file__)\n",
    "%matplotlib notebook"
   ]
  },
  {
   "cell_type": "markdown",
   "metadata": {},
   "source": [
    "# Import and Setup OpenPose"
   ]
  },
  {
   "cell_type": "code",
   "execution_count": null,
   "metadata": {},
   "outputs": [],
   "source": [
    "openPoseDir = \"/home/yousof/AI/openpose/\"\n",
    "openPoseLib = openPoseDir + \"build/python\"\n",
    "sys.path.append(openPoseLib);\n",
    "from openpose import pyopenpose as op\n",
    "import openpose\n",
    "\n",
    "params = dict()\n",
    "params[\"model_folder\"] = openPoseDir + \"models\"\n",
    "params[\"hand\"] = True\n",
    "params[\"hand_detector\"] = 0"
   ]
  },
  {
   "cell_type": "code",
   "execution_count": null,
   "metadata": {},
   "outputs": [],
   "source": [
    "def plotOpenCVImage(img):\n",
    "    plt.figure(figsize=(10,18))\n",
    "    plt.imshow(cv2.cvtColor(img, cv2.COLOR_BGR2RGB))\n",
    "    plt.show()"
   ]
  },
  {
   "cell_type": "markdown",
   "metadata": {},
   "source": [
    "# Initialize OpenPose"
   ]
  },
  {
   "cell_type": "code",
   "execution_count": null,
   "metadata": {},
   "outputs": [],
   "source": [
    "opWrapper = op.WrapperPython()\n",
    "opWrapper.configure(params)\n",
    "opWrapper.start()"
   ]
  },
  {
   "cell_type": "code",
   "execution_count": null,
   "metadata": {},
   "outputs": [],
   "source": [
    "def pointsToDegrees(d):\n",
    "    BaseIdx = 5\n",
    "    midIdx = 6\n",
    "    tipIdx = 8\n",
    "    hand = 0\n",
    "    if d.handKeypoints[hand].size != 1:\n",
    "        points = d.handKeypoints[hand][0, :, :].squeeze()\n",
    "        all_zeros = not np.any(points)\n",
    "        if not all_zeros:\n",
    "            points[:, 1] = d.cvOutputData.shape[1] - points[:, 1]\n",
    "            dy = points[midIdx, 1] - points[BaseIdx, 1]\n",
    "            dx = points[midIdx, 0] - points[BaseIdx, 0]\n",
    "            deg1 = math.degrees(math.atan2(dy, dx))\n",
    "            dy = points[tipIdx, 1] - points[midIdx, 1]\n",
    "            dx = points[tipIdx, 0] - points[midIdx, 0]\n",
    "            deg2 = math.degrees(math.atan2(dy, dx))\n",
    "            print(deg1 - 90, deg2)\n",
    "            return deg1- 90 , deg2\n",
    "    \n",
    "def processImage(img):\n",
    "    global  opWrapper\n",
    "    datum = op.Datum()\n",
    "    datum.cvInputData = img\n",
    "    opWrapper.emplaceAndPop([datum])\n",
    "    degs = pointsToDegrees(datum)\n",
    "    return datum, degs"
   ]
  },
  {
   "cell_type": "markdown",
   "metadata": {},
   "source": [
    "# Read from webcam"
   ]
  },
  {
   "cell_type": "code",
   "execution_count": null,
   "metadata": {},
   "outputs": [],
   "source": [
    "bufferLock = RLock()\n",
    "image = None\n",
    "isNewImage = False\n",
    "running = True\n",
    "def readImages():\n",
    "    global running, image, isNewImage, bufferLock, cam\n",
    "    cam = cv2.VideoCapture(0)\n",
    "    cam.set(3 , 640  ) # width         1920\n",
    "    cam.set(4 , 480  ) # height        1080      \n",
    "    print(\"cam.isOpened()\", cam.isOpened())\n",
    "    while cam.isOpened() and running:\n",
    "        ret, img = cam.read()\n",
    "        if ret:\n",
    "            bufferLock.acquire()\n",
    "            isNewImage = True\n",
    "            image = img.copy()\n",
    "            bufferLock.release()\n",
    "        else:\n",
    "            break\n",
    "    print(\"Releasing Camera!\")\n",
    "    cam.release()\n",
    "\n",
    "imageReaderThread = threading.Thread(target=readImages)"
   ]
  },
  {
   "cell_type": "code",
   "execution_count": null,
   "metadata": {},
   "outputs": [],
   "source": [
    "def signal_handler(signal, frame):\n",
    "    global running\n",
    "    running = False\n",
    "    \n",
    "signal.signal(signal.SIGINT, signal_handler)"
   ]
  },
  {
   "cell_type": "code",
   "execution_count": null,
   "metadata": {},
   "outputs": [],
   "source": [
    "imageReaderThread.start()"
   ]
  },
  {
   "cell_type": "code",
   "execution_count": null,
   "metadata": {
    "scrolled": true
   },
   "outputs": [],
   "source": [
    "def captureLastFrame():\n",
    "    global image, isNewImage, bufferLock\n",
    "    lastFrame = None\n",
    "    suc = False\n",
    "    if isNewImage:\n",
    "        bufferLock.acquire()\n",
    "        isNewImage = False\n",
    "        lastFrame = image.copy()\n",
    "        bufferLock.release()\n",
    "        suc = True\n",
    "    #print(\"captureLastFrame:\", suc)\n",
    "    return suc, lastFrame"
   ]
  },
  {
   "cell_type": "markdown",
   "metadata": {
    "scrolled": true
   },
   "source": [
    "while running:\n",
    "    ret, frame = captureLastFrame()\n",
    "    if ret:\n",
    "        processImage(frame)"
   ]
  },
  {
   "cell_type": "code",
   "execution_count": null,
   "metadata": {},
   "outputs": [],
   "source": [
    "import serial\n",
    "class ArmController:\n",
    "    def __init__(self, serialPath = '/dev/ttyACM0', baudrate = 115200):\n",
    "        self.servoMin = [46,46,41,47]\n",
    "        self.degMin =  [-45,-60,-60,-95]\n",
    "        self.servoZero = [73,82,75,100]\n",
    "        self.servoMax = [121,98,123,125]\n",
    "        self.servoListDegs = [0.0] * 4 # [right, left, base, gripper]\n",
    "        self.servoListRaw = [self.degToServo(deg,i) for i,deg in enumerate(self.servoListDegs) ]\n",
    "        self.degMax = [self.ServoToDeg(value, i) for i,value in enumerate(self.servoMax)]\n",
    "        self.serial = serial.Serial(serialPath, baudrate=baudrate)\n",
    "    \n",
    "    def closeSerial(self):\n",
    "        self.serial.close()\n",
    "        \n",
    "    def linearMap (self, X1, Y1, X2, Y2):\n",
    "        slope = (Y1 - Y2) / (X1 - X2)\n",
    "        b = Y1 - slope * X1\n",
    "        return slope, b\n",
    "\n",
    "    def degToServo(self, deg, servoIdx):\n",
    "        slope, b = self.linearMap(self.degMin[servoIdx], self.servoMin[servoIdx],\n",
    "                                  0 ,self.servoZero[servoIdx])\n",
    "        return int(deg*slope + b)\n",
    "    \n",
    "    def ServoToDeg(self, value, servoIdx):\n",
    "        slope, b = self.linearMap(self.servoMin[servoIdx], self.degMin[servoIdx], \n",
    "                                  self.servoZero[servoIdx], 0 )\n",
    "        return slope * value + b\n",
    "    \n",
    "    def clampServoValues(self):\n",
    "        def clamp(v,minimum,maximum):\n",
    "            return max(min(v, maximum), minimum)\n",
    "        \n",
    "        self.servoListRaw = [clamp(v, self.servoMin[i], self.servoMax[i]) \n",
    "                             for i, v in enumerate(self.servoListRaw)]\n",
    "    \n",
    "    def valuesToString(self, values):\n",
    "        if (len(values)!=4):\n",
    "            return None\n",
    "        return 's'+','.join([str(v) for v in values]) + 'e'\n",
    "    \n",
    "    def sendServos(self, sendRaw = False):\n",
    "        st = None\n",
    "        if sendRaw:\n",
    "            st = self.valuesToString(self.servoListRaw)\n",
    "        else:\n",
    "            st = self.valuesToString([self.degToServo(deg,i) for i, deg in enumerate(self.servoListDegs)])\n",
    "        if (st == None):\n",
    "            return\n",
    "        if not self.serial.isOpen():\n",
    "            self.serial.open()\n",
    "        self.serial.write(st.encode())\n",
    "        self.serial.close()\n",
    "    \n",
    "    def setDegrees(self, degs=[0,0,0,0]):\n",
    "        if len(degs) != 4:\n",
    "            return\n",
    "        self.servoListDegs = degs\n",
    "        self.sendServos()"
   ]
  },
  {
   "cell_type": "code",
   "execution_count": null,
   "metadata": {},
   "outputs": [],
   "source": [
    "armController = ArmController()"
   ]
  },
  {
   "cell_type": "code",
   "execution_count": null,
   "metadata": {},
   "outputs": [],
   "source": [
    "armController.setDegrees([0,8,0,0])"
   ]
  },
  {
   "cell_type": "code",
   "execution_count": null,
   "metadata": {},
   "outputs": [],
   "source": [
    "import matplotlib.pyplot as plt\n",
    "import matplotlib.patches as patches\n",
    "import matplotlib.animation as animation\n",
    "%matplotlib notebook\n",
    "\n",
    "fig = plt.figure(figsize=(8,8), dpi=100)  #figure is 500 pixels wide\n",
    "ax = fig.add_subplot(111)\n",
    "plt.axis('off')\n",
    "\n",
    "# List of variables\n",
    "width = 10\n",
    "spacing = 20\n",
    "bars = int(460/spacing) # make sure bars fit into range\n",
    "direction = 1\n",
    "\n",
    "def animate(i):\n",
    "    global armController\n",
    "    ret, img = captureLastFrame()\n",
    "    if ret:\n",
    "        ax.clear()\n",
    "        resDatum, degs = processImage(img)\n",
    "        ax.imshow(cv2.cvtColor(resDatum.cvOutputData, cv2.COLOR_BGR2RGB))\n",
    "        armController.setDegrees([-1*degs[0],degs[1],0,0])\n",
    "    \n",
    "\n",
    "anim = animation.FuncAnimation(fig, animate,\n",
    "                           frames=20, \n",
    "                           interval=10, # control speed with thie interval\n",
    "                           blit=True)\n",
    "plt.show()"
   ]
  },
  {
   "cell_type": "markdown",
   "metadata": {},
   "source": [
    "running=False"
   ]
  }
 ],
 "metadata": {
  "kernelspec": {
   "display_name": "Python 3.6",
   "language": "python",
   "name": "python36"
  },
  "language_info": {
   "codemirror_mode": {
    "name": "ipython",
    "version": 3
   },
   "file_extension": ".py",
   "mimetype": "text/x-python",
   "name": "python",
   "nbconvert_exporter": "python",
   "pygments_lexer": "ipython3",
   "version": "3.6.8"
  }
 },
 "nbformat": 4,
 "nbformat_minor": 2
}
