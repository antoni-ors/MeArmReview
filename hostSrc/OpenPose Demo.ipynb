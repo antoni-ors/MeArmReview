{
 "cells": [
  {
   "cell_type": "code",
   "execution_count": 1,
   "metadata": {
    "scrolled": false
   },
   "outputs": [
    {
     "name": "stdout",
     "output_type": "stream",
     "text": [
      "3.6.8 |Anaconda, Inc.| (default, Dec 30 2018, 01:22:34) \n",
      "[GCC 7.3.0]\n",
      "/home/yousof/Software/programming/anaconda3/envs/python36/lib/python3.6/site-packages/cv2.cpython-36m-x86_64-linux-gnu.so\n"
     ]
    }
   ],
   "source": [
    "import sys, os\n",
    "print (sys.version)\n",
    "import cv2, math\n",
    "import time\n",
    "from matplotlib import pyplot as plt\n",
    "import signal\n",
    "import numpy as np\n",
    "import multiprocessing\n",
    "import threading\n",
    "from threading import RLock\n",
    "\n",
    "\n",
    "print(cv2.__file__)\n",
    "%matplotlib notebook"
   ]
  },
  {
   "cell_type": "markdown",
   "metadata": {},
   "source": [
    "# Import and Setup OpenPose"
   ]
  },
  {
   "cell_type": "code",
   "execution_count": 2,
   "metadata": {},
   "outputs": [],
   "source": [
    "openPoseDir = \"/home/yousof/AI/openpose/\"\n",
    "openPoseLib = openPoseDir + \"build/python\"\n",
    "sys.path.append(openPoseLib);\n",
    "from openpose import pyopenpose as op\n",
    "import openpose\n",
    "\n",
    "params = dict()\n",
    "params[\"model_folder\"] = openPoseDir + \"models\"\n",
    "params[\"hand\"] = True\n",
    "params[\"hand_detector\"] = 0"
   ]
  },
  {
   "cell_type": "code",
   "execution_count": 3,
   "metadata": {},
   "outputs": [],
   "source": [
    "def plotOpenCVImage(img):\n",
    "    plt.figure(figsize=(10,18))\n",
    "    plt.imshow(cv2.cvtColor(img, cv2.COLOR_BGR2RGB))\n",
    "    plt.show()"
   ]
  },
  {
   "cell_type": "markdown",
   "metadata": {},
   "source": [
    "# Initialize OpenPose"
   ]
  },
  {
   "cell_type": "code",
   "execution_count": 4,
   "metadata": {},
   "outputs": [],
   "source": [
    "opWrapper = op.WrapperPython()\n",
    "opWrapper.configure(params)\n",
    "opWrapper.start()"
   ]
  },
  {
   "cell_type": "code",
   "execution_count": 5,
   "metadata": {},
   "outputs": [],
   "source": [
    "def pointsToDegrees(d):\n",
    "    BaseIdx = 5\n",
    "    midIdx = 6\n",
    "    tipIdx = 8\n",
    "    hand = 0\n",
    "    if d.handKeypoints[hand].size != 1:\n",
    "        points = d.handKeypoints[hand][0, :, :].squeeze()\n",
    "        all_zeros = not np.any(points)\n",
    "        if not all_zeros:\n",
    "            points[:, 1] = d.cvOutputData.shape[1] - points[:, 1]\n",
    "            dy = points[midIdx, 1] - points[BaseIdx, 1]\n",
    "            dx = points[midIdx, 0] - points[BaseIdx, 0]\n",
    "            deg1 = math.degrees(math.atan2(dy, dx))\n",
    "            dy = points[tipIdx, 1] - points[midIdx, 1]\n",
    "            dx = points[tipIdx, 0] - points[midIdx, 0]\n",
    "            deg2 = math.degrees(math.atan2(dy, dx))\n",
    "            print(deg1 - 90, deg2)\n",
    "    \n",
    "def processImage(img):\n",
    "    global  opWrapper\n",
    "    datum = op.Datum()\n",
    "    datum.cvInputData = img\n",
    "    opWrapper.emplaceAndPop([datum])\n",
    "    pointsToDegrees(datum)"
   ]
  },
  {
   "cell_type": "markdown",
   "metadata": {},
   "source": [
    "# Read from webcam"
   ]
  },
  {
   "cell_type": "code",
   "execution_count": 6,
   "metadata": {},
   "outputs": [],
   "source": [
    "bufferLock = RLock()\n",
    "image = None\n",
    "isNewImage = False\n",
    "running = True\n",
    "def readImages():\n",
    "    global running, image, isNewImage, bufferLock, cam\n",
    "    cam = cv2.VideoCapture(0)\n",
    "    cam.set(3 , 640  ) # width         1920\n",
    "    cam.set(4 , 480  ) # height        1080      \n",
    "    print(\"cam.isOpened()\", cam.isOpened())\n",
    "    while cam.isOpened() and running:\n",
    "        ret, img = cam.read()\n",
    "        if ret:\n",
    "            bufferLock.acquire()\n",
    "            isNewImage = True\n",
    "            image = img.copy()\n",
    "            bufferLock.release()\n",
    "        else:\n",
    "            break\n",
    "    print(\"Releasing Camera!\")\n",
    "    cam.release()\n",
    "\n",
    "imageReaderThread = threading.Thread(target=readImages)"
   ]
  },
  {
   "cell_type": "code",
   "execution_count": 7,
   "metadata": {},
   "outputs": [
    {
     "data": {
      "text/plain": [
       "<function _signal.default_int_handler>"
      ]
     },
     "execution_count": 7,
     "metadata": {},
     "output_type": "execute_result"
    }
   ],
   "source": [
    "def signal_handler(signal, frame):\n",
    "    global running\n",
    "    running = False\n",
    "    \n",
    "signal.signal(signal.SIGINT, signal_handler)"
   ]
  },
  {
   "cell_type": "code",
   "execution_count": 8,
   "metadata": {},
   "outputs": [],
   "source": [
    "imageReaderThread.start()"
   ]
  },
  {
   "cell_type": "code",
   "execution_count": 9,
   "metadata": {
    "scrolled": true
   },
   "outputs": [],
   "source": [
    "def captureLastFrame():\n",
    "    global image, isNewImage, bufferLock\n",
    "    lastFrame = None\n",
    "    suc = False\n",
    "    if isNewImage:\n",
    "        bufferLock.acquire()\n",
    "        isNewImage = False\n",
    "        lastFrame = image.copy()\n",
    "        bufferLock.release()\n",
    "        suc = True\n",
    "    #print(\"captureLastFrame:\", suc)\n",
    "    return suc, lastFrame"
   ]
  },
  {
   "cell_type": "code",
   "execution_count": 10,
   "metadata": {
    "scrolled": true
   },
   "outputs": [
    {
     "name": "stdout",
     "output_type": "stream",
     "text": [
      "cam.isOpened() True\n",
      "-9.46231309289486 42.165896107505084\n",
      "-16.504373213330254 43.19130498980996\n",
      "-19.093541521301162 39.58813299556067\n",
      "-22.782399086988107 40.95551971542824\n",
      "-24.274486789536738 42.662727901136115\n",
      "-19.983087307005448 40.3331293757782\n",
      "-4.484623109758729 64.23065233964562\n",
      "-2.2457633612377492 62.62231325369587\n",
      "-2.2025911635624027 63.43499394465494\n",
      "-3.2396935104653437 62.15242440120889\n",
      "-7.989366556627502 63.43494882292201\n",
      "-8.13007816348248 61.03233541761327\n",
      "-2.1210854209988526 62.281517130727785\n",
      "-6.115519681100963 64.57312933190475\n",
      "-7.386020774447644 58.448617876351825\n",
      "-10.684896110192085 49.18494603409396\n",
      "-12.407393301537482 41.00909876324564\n",
      "-18.083438209618294 29.0546090937852\n",
      "-21.801360801302266 21.97442895225422\n",
      "-22.01126836509296 14.50019774572938\n",
      "-20.556081612552006 10.222169463419068\n",
      "-22.442766237866095 -2.045432859890352\n",
      "-20.95580441990667 -8.13011829436647\n",
      "-19.88516766684556 -9.293303466288354\n",
      "-21.37063272319311 -11.113028788601595\n",
      "-21.37059874894365 -16.504345299428916\n",
      "-24.443965700342147 -18.434988680661494\n",
      "-23.962469418790235 -18.8247129442179\n",
      "-23.35559926629611 -17.281458517342735\n",
      "-24.443916562450525 -19.885212341027742\n",
      "-27.59729716201116 -17.417922808156103\n",
      "-26.029539733563468 -9.46231271469538\n",
      "-26.05346255582063 -3.1798592967256254\n",
      "-25.6022009426935 10.738895286588537\n",
      "-22.89054233583468 15.57253567429081\n",
      "-22.011291881705276 24.05731638982513\n",
      "-20.170636071490705 29.40720486687929\n",
      "-21.194035876188735 37.79391339549509\n",
      "-20.55605965029214 40.29222248421792\n",
      "-19.502463078270708 48.36647369247341\n",
      "-16.69927902262468 51.4831147837018\n",
      "-17.020520815141367 53.13009185808204\n",
      "-15.350151181516097 58.8775141371936\n",
      "-13.495761975074657 60.59280538781918\n",
      "-14.300285406711538 62.19857054256117\n",
      "-17.417960836742466 47.72630026888655\n",
      "-18.43494882292201 35.311178728966475\n",
      "-18.08348123587149 28.36906202751017\n",
      "-16.260174363394043 18.121830044944403\n",
      "-17.35402463626133 7.853254792935075\n",
      "-15.642234775584711 -3.878514596348112\n",
      "-19.502413957845704 -8.5836660254407\n",
      "-19.502492772468443 -11.093678154890926\n",
      "-19.133651501835047 -17.1026945041066\n",
      "-19.50245584727911 -17.417981896060176\n",
      "-17.74467397686543 -11.309864485371262\n",
      "-18.08350418326654 14.7435490695883\n",
      "-17.354017015360625 29.859036049615607\n",
      "-18.434968828801843 41.710810431606646\n",
      "-18.43494882292201 48.99088889525146\n",
      "-17.102694374658796 53.69549162511574\n",
      "-15.154079598609798 59.489802399860096\n",
      "-15.1540321233051 61.03232696193871\n",
      "-12.907385121492496 60.68998995910701\n",
      "-15.945430539011 61.113406518655374\n",
      "-16.260254145431617 61.92753275886945\n",
      "-13.17257802675833 63.43499128658864\n",
      "-12.652537558836343 62.65015708304803\n",
      "-11.534591107286161 61.87625124533324\n",
      "-12.652521145402531 64.61206384262117\n",
      "-16.699250129216736 45.69031357027971\n",
      "-16.69924423399361 30.78416681648858\n",
      "-19.13365156415351 14.500146182837812\n",
      "-20.55603794983611 -1.0050830660379306\n",
      "-21.595300927640196 -2.045446873643036\n",
      "-20.955751612201013 23.198631650481804\n",
      "-20.556001062387537 38.95586548167842\n",
      "-18.77801249596628 45.0\n",
      "-18.08345504898429 51.48310970846769\n",
      "-17.353990647525066 56.05638624082898\n",
      "-18.43494882292201 57.31946292392659\n",
      "-17.700408173310052 57.050784883409555\n",
      "-17.020523196278234 44.34143671433028\n",
      "-14.858571631822883 31.476812681933914\n",
      "-14.300337747037432 7.989357791032612\n",
      "-14.300253316913398 7.125037336761465\n",
      "-15.64220867930672 8.130094397190154\n",
      "-14.574242211465418 8.13010235415598\n",
      "-15.350092864400196 8.13012643854056\n",
      "-11.725162164718299 7.9894039003414115\n",
      "-12.994607789534143 7.124967043523687\n",
      "-15.642232286482468 7.001237631951375\n",
      "-11.725113108993924 5.906207097332225\n",
      "-12.994625795905975 11.113025773501423\n",
      "-11.513794988122157 18.12182742366032\n",
      "-17.020531790576072 31.29306997236487\n",
      "-11.944154292373483 31.12244066573984\n",
      "-12.99461229049298 31.122488592376982\n",
      "-13.24052689754545 32.399880599057425\n",
      "-13.240491636605114 39.09387410675329\n",
      "-14.300286789952665 48.2155214382356\n",
      "-12.171458208587467 50.7742939678368\n",
      "-11.944221287062518 52.594654992784385\n",
      "-12.652585121324563 57.80428456231943\n",
      "-12.652564058281797 61.82142090955223\n",
      "-13.760811176182841 66.12473973122174\n",
      "-11.309932474020215 68.19859955961368\n",
      "-10.20394704476982 70.16786866122565\n",
      "-10.407698472951225 71.30100636797347\n",
      "-9.272609396538257 71.56502136490357\n",
      "-10.619643395818315 74.52134937704949\n",
      "-11.768286358776734 75.12429965878164\n",
      "-12.011485202121648 75.55594191426626\n",
      "-10.007979801441337 71.83407890314857\n",
      "-10.407706193090746 75.34321088341243\n",
      "-10.40772922844026 72.89726416341054\n",
      "-10.203918566654835 71.02958654025167\n",
      "-11.534643799179847 71.30103495210999\n",
      "-10.407704833578421 70.23285427076257\n",
      "-11.309920107751509 70.75044885602271\n",
      "-10.204014697137453 67.03626284358978\n",
      "-10.885522497355822 61.46001557086888\n",
      "-14.03629002359304 53.652538866600665\n",
      "-19.88516132523874 48.21546572921639\n",
      "-20.282553841324955 44.34144348508228\n",
      "-18.43494882292201 40.39989020196974\n",
      "-20.695471362837992 38.95590261081859\n",
      "-21.595269677014926 31.293039893113335\n",
      "-19.573138389206477 22.328681563757083\n",
      "-20.695493397294456 18.43494882292201\n",
      "-20.556052579156756 15.422204061156053\n",
      "-20.955779299078273 15.422118185859343\n",
      "-21.370656611318722 9.950619951599569\n",
      "-20.695461699386 6.2258580772093035\n",
      "-18.799929460123963 4.014158972104787\n",
      "-20.95570255798262 3.1221294125457875\n",
      "-20.282507474259205 3.0127699190812858\n",
      "-20.170667659781373 1.909186547194404\n",
      "-20.55598632053504 1.0051048574729964\n",
      "-19.885216537404986 -1.00512256584929\n",
      "-19.50243988032794 -2.0095547953261987\n",
      "-20.955791944571587 -1.0050672308757513\n",
      "-19.502422401933643 -1.005061210548473\n",
      "-20.55605988542392 0.0\n",
      "-18.77801710073051 -2.045426899767207\n",
      "-18.434968792752272 -1.0230312072118852\n",
      "-21.19402159170049 0.0\n",
      "-20.556074925027886 0.0\n",
      "-20.55605993684911 0.0\n",
      "-20.95576038362688 0.0\n",
      "-20.556045219583467 -0.9877783151587437\n",
      "-18.434911015479983 -3.945186229037563\n",
      "-20.95577049229513 8.972606684791735\n",
      "-18.79983184092839 14.036230625612237\n",
      "-63.97038208709726 -4.289140805090931\n",
      "-78.99646604983853 -2.7262969929563026\n",
      "-69.07547377637376 -11.309960825677678\n",
      "-59.67640013065628 -23.198580412352854\n",
      "-153.4346596226499 -106.29407015886036\n"
     ]
    },
    {
     "ename": "KeyboardInterrupt",
     "evalue": "",
     "output_type": "error",
     "traceback": [
      "\u001b[0;31m-------------------------------------------------------------------\u001b[0m",
      "\u001b[0;31mKeyboardInterrupt\u001b[0m                 Traceback (most recent call last)",
      "\u001b[0;32m<ipython-input-10-6a02e0135cae>\u001b[0m in \u001b[0;36m<module>\u001b[0;34m\u001b[0m\n\u001b[1;32m      2\u001b[0m     \u001b[0mret\u001b[0m\u001b[0;34m,\u001b[0m \u001b[0mframe\u001b[0m \u001b[0;34m=\u001b[0m \u001b[0mcaptureLastFrame\u001b[0m\u001b[0;34m(\u001b[0m\u001b[0;34m)\u001b[0m\u001b[0;34m\u001b[0m\u001b[0;34m\u001b[0m\u001b[0m\n\u001b[1;32m      3\u001b[0m     \u001b[0;32mif\u001b[0m \u001b[0mret\u001b[0m\u001b[0;34m:\u001b[0m\u001b[0;34m\u001b[0m\u001b[0;34m\u001b[0m\u001b[0m\n\u001b[0;32m----> 4\u001b[0;31m         \u001b[0mprocessImage\u001b[0m\u001b[0;34m(\u001b[0m\u001b[0mframe\u001b[0m\u001b[0;34m)\u001b[0m\u001b[0;34m\u001b[0m\u001b[0;34m\u001b[0m\u001b[0m\n\u001b[0m",
      "\u001b[0;32m<ipython-input-5-cbaf1bc8bc0f>\u001b[0m in \u001b[0;36mprocessImage\u001b[0;34m(img)\u001b[0m\n\u001b[1;32m     21\u001b[0m     \u001b[0mdatum\u001b[0m \u001b[0;34m=\u001b[0m \u001b[0mop\u001b[0m\u001b[0;34m.\u001b[0m\u001b[0mDatum\u001b[0m\u001b[0;34m(\u001b[0m\u001b[0;34m)\u001b[0m\u001b[0;34m\u001b[0m\u001b[0;34m\u001b[0m\u001b[0m\n\u001b[1;32m     22\u001b[0m     \u001b[0mdatum\u001b[0m\u001b[0;34m.\u001b[0m\u001b[0mcvInputData\u001b[0m \u001b[0;34m=\u001b[0m \u001b[0mimg\u001b[0m\u001b[0;34m\u001b[0m\u001b[0;34m\u001b[0m\u001b[0m\n\u001b[0;32m---> 23\u001b[0;31m     \u001b[0mopWrapper\u001b[0m\u001b[0;34m.\u001b[0m\u001b[0memplaceAndPop\u001b[0m\u001b[0;34m(\u001b[0m\u001b[0;34m[\u001b[0m\u001b[0mdatum\u001b[0m\u001b[0;34m]\u001b[0m\u001b[0;34m)\u001b[0m\u001b[0;34m\u001b[0m\u001b[0;34m\u001b[0m\u001b[0m\n\u001b[0m\u001b[1;32m     24\u001b[0m     \u001b[0mpointsToDegrees\u001b[0m\u001b[0;34m(\u001b[0m\u001b[0mdatum\u001b[0m\u001b[0;34m)\u001b[0m\u001b[0;34m\u001b[0m\u001b[0;34m\u001b[0m\u001b[0m\n",
      "\u001b[0;31mKeyboardInterrupt\u001b[0m: "
     ]
    }
   ],
   "source": [
    "while running:\n",
    "    ret, frame = captureLastFrame()\n",
    "    if ret:\n",
    "        processImage(frame)"
   ]
  },
  {
   "cell_type": "markdown",
   "metadata": {},
   "source": [
    "running=False"
   ]
  }
 ],
 "metadata": {
  "kernelspec": {
   "display_name": "Python 3.6",
   "language": "python",
   "name": "python36"
  },
  "language_info": {
   "codemirror_mode": {
    "name": "ipython",
    "version": 3
   },
   "file_extension": ".py",
   "mimetype": "text/x-python",
   "name": "python",
   "nbconvert_exporter": "python",
   "pygments_lexer": "ipython3",
   "version": "3.6.8"
  }
 },
 "nbformat": 4,
 "nbformat_minor": 2
}
